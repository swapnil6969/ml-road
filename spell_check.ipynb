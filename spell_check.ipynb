{
  "nbformat": 4,
  "nbformat_minor": 0,
  "metadata": {
    "colab": {
      "provenance": [],
      "authorship_tag": "ABX9TyM2A4j/EWpDWWGKO3gYiaIt",
      "include_colab_link": true
    },
    "kernelspec": {
      "name": "python3",
      "display_name": "Python 3"
    },
    "language_info": {
      "name": "python"
    }
  },
  "cells": [
    {
      "cell_type": "markdown",
      "metadata": {
        "id": "view-in-github",
        "colab_type": "text"
      },
      "source": [
        "<a href=\"https://colab.research.google.com/github/swapnil6969/ml-road/blob/master/spell_check.ipynb\" target=\"_parent\"><img src=\"https://colab.research.google.com/assets/colab-badge.svg\" alt=\"Open In Colab\"/></a>"
      ]
    },
    {
      "cell_type": "code",
      "execution_count": null,
      "metadata": {
        "id": "DEwxlXArG4FC"
      },
      "outputs": [],
      "source": [
        "import re\n",
        "import math\n",
        "import string\n",
        "from collections import Counter\n",
        "import pandas as pd"
      ]
    },
    {
      "cell_type": "code",
      "source": [
        "def tokenise(text):\n",
        "  return re.findall(r\"[\\w]+(?:[\\.'-][\\w]+)*\", text.lower())\n",
        "\n",
        "def remove_punctuation(text):\n",
        "  return ''.join([c for c in text if c not in string.punctuation])\n",
        "\n",
        "def ngram(tokens, n):\n",
        "  return Counter(' '.join(tokens[i:i+n]) for i in range(len(tokens) - n))\n",
        "\n",
        "print(tokenise(\"This is sentence with abbreviations like U.S.A. and hyphenated-words. How will the regex han'le the text?\"))"
      ],
      "metadata": {
        "colab": {
          "base_uri": "https://localhost:8080/"
        },
        "id": "3rOW0APJLcu7",
        "outputId": "2778b4fd-caab-4618-e7ae-4a283cc3ef5e"
      },
      "execution_count": null,
      "outputs": [
        {
          "output_type": "stream",
          "name": "stdout",
          "text": [
            "['this', 'is', 'sentence', 'with', 'abbreviations', 'like', 'u.s.a', 'and', 'hyphenated-words', 'how', 'will', 'the', 'regex', \"han'le\", 'the', 'text']\n"
          ]
        }
      ]
    },
    {
      "cell_type": "code",
      "source": [
        "!wget -O sample_data/big.txt https://raw.githubusercontent.com/swapnil6969/spell_checker/main/data/big.txt"
      ],
      "metadata": {
        "colab": {
          "base_uri": "https://localhost:8080/"
        },
        "id": "wiX8ZfhlXXcU",
        "outputId": "9e8b8a8e-85f6-48c5-9f1f-2eaa11b2eed2"
      },
      "execution_count": null,
      "outputs": [
        {
          "output_type": "stream",
          "name": "stdout",
          "text": [
            "--2024-07-05 15:52:03--  https://raw.githubusercontent.com/swapnil6969/spell_checker/main/data/big.txt\n",
            "Resolving raw.githubusercontent.com (raw.githubusercontent.com)... 185.199.111.133, 185.199.108.133, 185.199.110.133, ...\n",
            "Connecting to raw.githubusercontent.com (raw.githubusercontent.com)|185.199.111.133|:443... connected.\n",
            "HTTP request sent, awaiting response... 200 OK\n",
            "Length: 6488395 (6.2M) [text/plain]\n",
            "Saving to: ‘sample_data/big.txt’\n",
            "\n",
            "sample_data/big.txt 100%[===================>]   6.19M  --.-KB/s    in 0.06s   \n",
            "\n",
            "2024-07-05 15:52:03 (109 MB/s) - ‘sample_data/big.txt’ saved [6488395/6488395]\n",
            "\n"
          ]
        }
      ]
    },
    {
      "cell_type": "code",
      "source": [
        "file = open(\"sample_data/big.txt\", \"r\")\n",
        "text = file.read()\n",
        "file.close()"
      ],
      "metadata": {
        "id": "0spEq_mjjvG0"
      },
      "execution_count": null,
      "outputs": []
    },
    {
      "cell_type": "code",
      "source": [
        "tokens = tokenise(text)\n",
        "\n",
        "WORDS = Counter(tokens)\n",
        "\n",
        "NGRAM_3 = ngram(tokens, 3)\n",
        "\n",
        "NGRAM_2 = ngram(tokens, 2)"
      ],
      "metadata": {
        "id": "3hPB6upCpn8b"
      },
      "execution_count": null,
      "outputs": []
    },
    {
      "cell_type": "code",
      "source": [
        "WORDS[\"gig\"]"
      ],
      "metadata": {
        "id": "gpAOR9D9OKgR",
        "outputId": "7ad1eed8-a6b6-4d6e-db92-75477f749ff2",
        "colab": {
          "base_uri": "https://localhost:8080/"
        }
      },
      "execution_count": null,
      "outputs": [
        {
          "output_type": "execute_result",
          "data": {
            "text/plain": [
              "3"
            ]
          },
          "metadata": {},
          "execution_count": 44
        }
      ]
    },
    {
      "cell_type": "code",
      "source": [
        "NGRAM_2.most_common(10)"
      ],
      "metadata": {
        "id": "siK5t7Z3ofbm",
        "outputId": "599ed41e-d37b-427f-d480-877de5c7890c",
        "colab": {
          "base_uri": "https://localhost:8080/"
        }
      },
      "execution_count": null,
      "outputs": [
        {
          "output_type": "execute_result",
          "data": {
            "text/plain": [
              "[('of the', 12527),\n",
              " ('in the', 6445),\n",
              " ('to the', 4464),\n",
              " ('and the', 3202),\n",
              " ('on the', 2525),\n",
              " ('at the', 2103),\n",
              " ('by the', 1937),\n",
              " ('from the', 1865),\n",
              " ('with the', 1735),\n",
              " ('of a', 1709)]"
            ]
          },
          "metadata": {},
          "execution_count": 11
        }
      ]
    },
    {
      "cell_type": "code",
      "source": [
        "def prob(w, dictionary):\n",
        "  return dictionary[w] / dictionary.total()"
      ],
      "metadata": {
        "id": "247G-xc2p6Jr"
      },
      "execution_count": null,
      "outputs": []
    },
    {
      "cell_type": "code",
      "source": [
        "def edits_one(word):\n",
        "  \"Create all edits that are one edit away from `word`.\"\n",
        "  alphabets = string.ascii_lowercase\n",
        "  splits = [(word[:i], word[i:]) for i in range(len(word) + 1)]\n",
        "  deletes = [left + right[1:] for left, right in splits if right]\n",
        "  inserts = [left + c + right for left, right in splits for c in alphabets]\n",
        "  replaces = [left + c + right[1:] for left, right in splits if right for c in alphabets]\n",
        "  transposes = [left + right[1] + right[0] + right[2:] for left, right in splits if len(right)>1]\n",
        "  return set(deletes + inserts + replaces + transposes)\n",
        "\n",
        "def edits_two(word):\n",
        "  \"Create all edits that are two edits away from `word`.\"\n",
        "  return set(e2 for e1 in edits_one(word) for e2 in edits_one(e1))"
      ],
      "metadata": {
        "id": "DVRg9EB2qR-Z"
      },
      "execution_count": null,
      "outputs": []
    },
    {
      "cell_type": "code",
      "source": [
        "def valid_words(words, dictionary):\n",
        "  valids = set()\n",
        "  for w in words:\n",
        "    if w in dictionary:\n",
        "      valids.add(w)\n",
        "  return valids"
      ],
      "metadata": {
        "id": "d-Oomo_6t6En"
      },
      "execution_count": null,
      "outputs": []
    },
    {
      "cell_type": "code",
      "source": [
        "def correction(word, known):\n",
        "  if word in known:\n",
        "    return word\n",
        "\n",
        "  return max(max(valid_words(edits_one(word), WORDS), key=lambda x: 10*prob(x, known)),\n",
        "             max(valid_words(edits_two(word), WORDS), key=lambda x: prob(x, known)))\n",
        "\n",
        "print(correction(\"hossel\", WORDS))"
      ],
      "metadata": {
        "id": "QTNntZzGwYEu",
        "outputId": "b28d9b9e-999b-44b2-fdbd-ded05b665ea2",
        "colab": {
          "base_uri": "https://localhost:8080/"
        }
      },
      "execution_count": null,
      "outputs": [
        {
          "output_type": "stream",
          "name": "stdout",
          "text": [
            "house\n"
          ]
        }
      ]
    },
    {
      "cell_type": "code",
      "source": [
        "def context_aware_correction(sentence):\n",
        "  # Make bigrams from the data\n",
        "  tokens = [' '.join(sentence.split()[i:i+2]) for i in range(len(sentence.split()) - 1)]\n",
        "  init_prob = [ (NGRAM_2[token] + 1e-4) / (WORDS[token.split()[0] ]+ 1e-4) for token in tokens ]\n",
        "  print(init_prob)\n",
        "\n",
        "  # Changing one word at a time\n",
        "  probs = []\n",
        "  for i in range(len(sentence.split())):\n",
        "    word = sentence.split()[i]\n",
        "    print(\"replacing word:\", word, end=' ')\n",
        "    alternatives = valid_words(edits_one(word), WORDS)\n",
        "    alternatives.add(word)\n",
        "    print(\"alternatives:\", *alternatives)\n",
        "\n",
        "    # Compute probabilities for alternative bigrams\n",
        "    for alternative in alternatives:\n",
        "      print(\"trying word\", alternative)\n",
        "      recomputed_prob = 1\n",
        "      if i>0:\n",
        "        recomputed_prob *= (NGRAM_2[' '.join([sentence.split()[i - 1], alternative])] + 1e-4) / (WORDS[sentence.split()[i - 1]] + 1e-4)\n",
        "      if i<len(sentence.split())-1:\n",
        "        recomputed_prob *= (NGRAM_2[' '.join([alternative, sentence.split()[i]])] + 1e-4) / (WORDS[alternative] + 1e-4)\n",
        "      if alternative in [\"u\", \"submit\"]:\n",
        "        print(recomputed_prob)\n",
        "      # Iterating over old probabilities\n",
        "      for j in range(len(sentence.split()) - 1):\n",
        "        if (i==0 and j==0) or (i==len(sentence.split()) - 1 and j==i - 1):\n",
        "          continue\n",
        "        elif j==i - 1 or j==i:\n",
        "          continue\n",
        "        else:\n",
        "          recomputed_prob *= init_prob[j]\n",
        "\n",
        "      probs.append((recomputed_prob, sentence.replace(word, alternative, 1)))\n",
        "      print(sentence.replace(word, alternative, 1) + ':', recomputed_prob*1e9)\n",
        "\n",
        "  return probs"
      ],
      "metadata": {
        "id": "9b3Ot4hUPxCz"
      },
      "execution_count": null,
      "outputs": []
    },
    {
      "cell_type": "code",
      "source": [
        "p = context_aware_correction(\"i summit that is what is happening in this case\")"
      ],
      "metadata": {
        "id": "xyzCHnUG8LVl",
        "outputId": "f3b7d221-1207-4b17-e5c9-011589ff323b",
        "colab": {
          "base_uri": "https://localhost:8080/"
        }
      },
      "execution_count": null,
      "outputs": [
        {
          "output_type": "stream",
          "name": "stdout",
          "text": [
            "[1.3772207495218187e-08, 2.4999375015624612e-05, 0.030970921499623747, 0.006448981405988522, 0.08682332016263805, 0.0005118333451547411, 0.1702145314584437, 0.014180197819714581, 0.004430248475750714]\n",
            "replacing word: i alternatives: e ti xi w ix d if hi mi g y vi s si il h r id q o b a iv j x m p l z ni u is in it ii c f n v i k t li\n",
            "trying word e\n",
            "e summit that is what is happening in this case: 8.787817000138546e-15\n",
            "trying word ti\n",
            "ti summit that is what is happening in this case: 2.372482129641443e-13\n",
            "trying word xi\n",
            "xi summit that is what is happening in this case: 8.473967513881763e-15\n",
            "trying word w\n",
            "w summit that is what is happening in this case: 1.3181701089740656e-14\n",
            "trying word ix\n",
            "ix summit that is what is happening in this case: 9.49083954805944e-15\n",
            "trying word d\n",
            "d summit that is what is happening in this case: 1.0785039058251585e-14\n",
            "trying word if\n",
            "if summit that is what is happening in this case: 1.2514352193645e-10\n",
            "trying word hi\n",
            "hi summit that is what is happening in this case: 1.186300373908508e-13\n",
            "trying word mi\n",
            "mi summit that is what is happening in this case: 1.186300373908508e-13\n",
            "trying word g\n",
            "g summit that is what is happening in this case: 1.1863537571584178e-14\n",
            "trying word y\n",
            "y summit that is what is happening in this case: 3.954466388650868e-14\n",
            "trying word vi\n",
            "vi summit that is what is happening in this case: 6.590868852737652e-15\n",
            "trying word s\n",
            "s summit that is what is happening in this case: 8.473967513881763e-15\n",
            "trying word si\n",
            "si summit that is what is happening in this case: 4.745343848831839e-14\n",
            "trying word il\n",
            "il summit that is what is happening in this case: 1.8251547125440632e-14\n",
            "trying word h\n",
            "h summit that is what is happening in this case: 8.788695781838559e-11\n",
            "trying word r\n",
            "r summit that is what is happening in this case: 1.482940342781862e-14\n",
            "trying word id\n",
            "id summit that is what is happening in this case: 2.372482129641443e-13\n",
            "trying word q\n",
            "q summit that is what is happening in this case: 7.908800966149152e-14\n",
            "trying word o\n",
            "o summit that is what is happening in this case: 1.7706847814698707e-15\n",
            "trying word b\n",
            "b summit that is what is happening in this case: 6.590868852737652e-15\n",
            "trying word a\n",
            "a summit that is what is happening in this case: 1.1262787215954274e-13\n",
            "trying word iv\n",
            "iv summit that is what is happening in this case: 4.314027388776399e-15\n",
            "trying word j\n",
            "j summit that is what is happening in this case: 8.181762745143664e-15\n",
            "trying word x\n",
            "x summit that is what is happening in this case: 4.652381814652143e-15\n",
            "trying word m\n",
            "m summit that is what is happening in this case: 5.93178361517698e-15\n",
            "trying word p\n",
            "p summit that is what is happening in this case: 5.0483283606937164e-15\n",
            "trying word l\n",
            "l summit that is what is happening in this case: 4.745343848831839e-14\n",
            "trying word z\n",
            "z summit that is what is happening in this case: 3.954466388650868e-14\n",
            "trying word ni\n",
            "ni summit that is what is happening in this case: 1.186300373908508e-13\n",
            "trying word u\n",
            "0.09091735529677003\n",
            "u summit that is what is happening in this case: 2.1572137069592034e-10\n",
            "trying word is\n",
            "is summit that is what is happening in this case: 3.886144633943479e-12\n",
            "trying word in\n",
            "in summit that is what is happening in this case: 1.0818635301064883e-12\n",
            "trying word it\n",
            "it summit that is what is happening in this case: 1.8493548874798862e-11\n",
            "trying word ii\n",
            "ii summit that is what is happening in this case: 3.0817578805640417e-11\n",
            "trying word c\n",
            "c summit that is what is happening in this case: 5.392531784824141e-15\n",
            "trying word f\n",
            "f summit that is what is happening in this case: 3.3421877571893454e-11\n",
            "trying word n\n",
            "n summit that is what is happening in this case: 2.1569980071584877e-14\n",
            "trying word v\n",
            "v summit that is what is happening in this case: 4.943155072290282e-15\n",
            "trying word i\n",
            "i summit that is what is happening in this case: 6.208773561533422e-12\n",
            "trying word k\n",
            "k summit that is what is happening in this case: 8.787817000138546e-15\n",
            "trying word t\n",
            "t summit that is what is happening in this case: 1.5818023732204506e-14\n",
            "trying word li\n",
            "li summit that is what is happening in this case: 2.372482129641443e-13\n",
            "replacing word: summit alternatives: summits summit submit\n",
            "trying word summits\n",
            "i summits that is what is happening in this case: 6.53535334019817e-17\n",
            "trying word summit\n",
            "i summit that is what is happening in this case: 3.26775835997359e-17\n",
            "trying word submit\n",
            "8.885710759380099e-10\n",
            "i submit that is what is happening in this case: 8.433530074897271e-14\n",
            "replacing word: that alternatives: than tat that hat what thaw chat\n",
            "trying word than\n",
            "i summit than is what is happening in this case: 3.149576564653098e-17\n",
            "trying word tat\n",
            "i summit tat is what is happening in this case: 1.0549998058183718e-19\n",
            "trying word that\n",
            "i summit that is what is happening in this case: 3.02571002957173e-18\n",
            "trying word hat\n",
            "i summit hat is what is happening in this case: 2.1316302934325192e-17\n",
            "trying word what\n",
            "i summit what is what is happening in this case: 1.7962655294173624e-18\n",
            "trying word thaw\n",
            "i summit thaw is what is happening in this case: 5.2752627658564745e-20\n",
            "trying word chat\n",
            "i summit chat is what is happening in this case: 1.1723262028188064e-20\n",
            "replacing word: is alternatives: ist isa its ix dis ms if os s si il id zis iv irs ism tis iss as is in it ii his i us vis\n",
            "trying word ist\n",
            "i summit that ist what is happening in this case: 1.3403661997655114e-25\n",
            "trying word isa\n",
            "i summit that isa what is happening in this case: 3.3511668117934254e-26\n",
            "trying word its\n",
            "i summit that its what is happening in this case: 7.378981920241492e-24\n",
            "trying word ix\n",
            "i summit that ix what is happening in this case: 5.3619794976239614e-27\n",
            "trying word dis\n",
            "i summit that dis what is happening in this case: 1.3403661997655114e-25\n",
            "trying word ms\n",
            "i summit that ms what is happening in this case: 6.702166073623758e-26\n",
            "trying word if\n",
            "i summit that if what is happening in this case: 6.05205288148599e-23\n",
            "trying word os\n",
            "i summit that os what is happening in this case: 4.4681851817789e-26\n",
            "trying word s\n",
            "i summit that s what is happening in this case: 9.575446240529908e-23\n",
            "trying word si\n",
            "i summit that si what is happening in this case: 2.681214948519283e-22\n",
            "trying word il\n",
            "i summit that il what is happening in this case: 1.0311460960957902e-26\n",
            "trying word id\n",
            "i summit that id what is happening in this case: 1.3403661997655114e-25\n",
            "trying word zis\n",
            "i summit that zis what is happening in this case: 1.3403661997655114e-25\n",
            "trying word iv\n",
            "i summit that iv what is happening in this case: 2.4372687256668403e-27\n",
            "trying word irs\n",
            "i summit that irs what is happening in this case: 4.4681851817789e-26\n",
            "trying word ism\n",
            "i summit that ism what is happening in this case: 1.3403661997655114e-25\n",
            "trying word tis\n",
            "i summit that tis what is happening in this case: 2.680946853833899e-26\n",
            "trying word iss\n",
            "i summit that iss what is happening in this case: 6.702166073623758e-26\n",
            "trying word as\n",
            "i summit that as what is happening in this case: 2.9325141427445885e-18\n",
            "trying word is\n",
            "i summit that is what is happening in this case: 1.0374338288007765e-18\n",
            "trying word in\n",
            "i summit that in what is happening in this case: 9.413542459834027e-20\n",
            "trying word it\n",
            "i summit that it what is happening in this case: 1.0837471746605727e-15\n",
            "trying word ii\n",
            "i summit that ii what is happening in this case: 1.7409071369848717e-27\n",
            "trying word his\n",
            "i summit that his what is happening in this case: 2.1508936611241133e-23\n",
            "trying word i\n",
            "i summit that i what is happening in this case: 8.031621548268516e-19\n",
            "trying word us\n",
            "i summit that us what is happening in this case: 1.1776184905882982e-23\n",
            "trying word vis\n",
            "i summit that vis what is happening in this case: 1.3403661997655114e-25\n",
            "replacing word: what alternatives: wheat that hat what wat whit chat\n",
            "trying word wheat\n",
            "i summit that is wheat is happening in this case: 1.6146165818872424e-27\n",
            "trying word that\n",
            "i summit that is that is happening in this case: 3.149809865230076e-18\n",
            "trying word hat\n",
            "i summit that is hat is happening in this case: 6.034435822942214e-28\n",
            "trying word what\n",
            "i summit that is what is happening in this case: 1.4096335152631504e-18\n",
            "trying word wat\n",
            "i summit that is wat is happening in this case: 5.973500149133702e-26\n",
            "trying word whit\n",
            "i summit that is whit is happening in this case: 1.9912994564009916e-26\n",
            "trying word chat\n",
            "i summit that is chat is happening in this case: 6.637812356694499e-27\n",
            "replacing word: is alternatives: ist isa its ix dis ms if os s si il id zis iv irs ism tis iss as is in it ii his i us vis\n",
            "trying word ist\n",
            "i summit that ist what is happening in this case: 2.5034422663638515e-24\n",
            "trying word isa\n",
            "i summit that isa what is happening in this case: 6.259075049599979e-25\n",
            "trying word its\n",
            "i summit that its what is happening in this case: 1.5314635025719862e-23\n",
            "trying word ix\n",
            "i summit that ix what is happening in this case: 1.0014730383440418e-25\n",
            "trying word dis\n",
            "i summit that dis what is happening in this case: 2.5034422663638515e-24\n",
            "trying word ms\n",
            "i summit that ms what is happening in this case: 1.2517837161094385e-24\n",
            "trying word if\n",
            "i summit that if what is happening in this case: 9.507798697804042e-23\n",
            "trying word os\n",
            "i summit that os what is happening in this case: 8.34536385650641e-25\n",
            "trying word s\n",
            "i summit that s what is happening in this case: 8.941727388796782e-26\n",
            "trying word si\n",
            "i summit that si what is happening in this case: 5.007285075479466e-25\n",
            "trying word il\n",
            "i summit that il what is happening in this case: 1.9259025781266977e-25\n",
            "trying word id\n",
            "i summit that id what is happening in this case: 2.5034422663638515e-24\n",
            "trying word zis\n",
            "i summit that zis what is happening in this case: 2.5034422663638515e-24\n",
            "trying word iv\n",
            "i summit that iv what is happening in this case: 4.5521601062370575e-26\n",
            "trying word irs\n",
            "i summit that irs what is happening in this case: 8.34536385650641e-25\n",
            "trying word ism\n",
            "i summit that ism what is happening in this case: 2.5034422663638515e-24\n",
            "trying word tis\n",
            "i summit that tis what is happening in this case: 5.007285075479466e-25\n",
            "trying word iss\n",
            "i summit that iss what is happening in this case: 1.2517837161094385e-24\n",
            "trying word as\n",
            "i summit that as what is happening in this case: 1.335885733822637e-22\n",
            "trying word is\n",
            "i summit that is what is happening in this case: 1.3071425563055096e-17\n",
            "trying word in\n",
            "i summit that in what is happening in this case: 2.2834836454341796e-20\n",
            "trying word it\n",
            "i summit that it what is happening in this case: 1.958855809894057e-15\n",
            "trying word ii\n",
            "i summit that ii what is happening in this case: 3.2515446221374876e-26\n",
            "trying word his\n",
            "i summit that his what is happening in this case: 1.9961920524582184e-23\n",
            "trying word i\n",
            "i summit that i what is happening in this case: 4.172666943722188e-18\n",
            "trying word us\n",
            "i summit that us what is happening in this case: 2.1994734748653754e-22\n",
            "trying word vis\n",
            "i summit that vis what is happening in this case: 2.5034422663638515e-24\n",
            "replacing word: happening alternatives: happening\n",
            "trying word happening\n",
            "i summit that is what is happening in this case: 4.0846468918808396e-22\n",
            "replacing word: in alternatives: bin ein fn ix gin ing ind din pin ion if on inn il id ink win kin un iv sin ni is in it ii tin n i sn en an\n",
            "trying word bin\n",
            "i summit that is what is happenbing in this case: 1.4401924153938085e-24\n",
            "trying word ein\n",
            "i summit that is what is happeneing in this case: 4.800801403358538e-25\n",
            "trying word fn\n",
            "i summit that is what is happenfng in this case: 2.880240825946562e-24\n",
            "trying word ix\n",
            "i summit that is what is happenixg in this case: 1.152206931183938e-25\n",
            "trying word gin\n",
            "i summit that is what is happenging in this case: 7.201142096520477e-25\n",
            "trying word ing\n",
            "i summit that is what is happeningg in this case: 2.880240825946562e-24\n",
            "trying word ind\n",
            "i summit that is what is happenindg in this case: 2.880240825946562e-24\n",
            "trying word din\n",
            "i summit that is what is happending in this case: 5.760942481208688e-25\n",
            "trying word pin\n",
            "i summit that is what is happenping in this case: 3.20055204945407e-25\n",
            "trying word ion\n",
            "i summit that is what is happeniong in this case: 2.880240825946562e-24\n",
            "trying word if\n",
            "i summit that is what is happenifg in this case: 3.767792347510401e-22\n",
            "trying word on\n",
            "i summit that is what is happenong in this case: 4.514625539074777e-18\n",
            "trying word inn\n",
            "i summit that is what is happeninng in this case: 2.2158936900024675e-21\n",
            "trying word il\n",
            "i summit that is what is happenilg in this case: 2.215774378681054e-25\n",
            "trying word id\n",
            "i summit that is what is happenidg in this case: 2.880240825946562e-24\n",
            "trying word ink\n",
            "i summit that is what is happeninkg in this case: 2.215774378681054e-25\n",
            "trying word win\n",
            "i summit that is what is happenwing in this case: 1.5161396293544797e-21\n",
            "trying word kin\n",
            "i summit that is what is happenking in this case: 9.601442785337676e-25\n",
            "trying word un\n",
            "i summit that is what is happenung in this case: 2.215774378681054e-25\n",
            "trying word iv\n",
            "i summit that is what is happenivg in this case: 5.237315659479086e-26\n",
            "trying word sin\n",
            "i summit that is what is happensing in this case: 1.2523984026283174e-25\n",
            "trying word ni\n",
            "i summit that is what is happennig in this case: 1.4401924153938085e-24\n",
            "trying word is\n",
            "i summit that is what is happenisg in this case: 3.921697422305921e-22\n",
            "trying word in\n",
            "i summit that is what is happening in this case: 6.304460010037791e-19\n",
            "trying word it\n",
            "i summit that is what is happenitg in this case: 3.8728884010524185e-22\n",
            "trying word ii\n",
            "i summit that is what is happeniig in this case: 1.4964140894624325e-21\n",
            "trying word tin\n",
            "i summit that is what is happenting in this case: 4.1149824288640974e-25\n",
            "trying word n\n",
            "i summit that is what is happenng in this case: 2.6189006490069725e-21\n",
            "trying word i\n",
            "i summit that is what is happenig in this case: 3.9671637730973955e-23\n",
            "trying word sn\n",
            "i summit that is what is happensng in this case: 2.880240825946562e-24\n",
            "trying word en\n",
            "i summit that is what is happeneng in this case: 1.9203397644210082e-25\n",
            "trying word an\n",
            "i summit that is what is happenang in this case: 8.420978715885331e-24\n",
            "replacing word: this alternatives: his tis this thins thus thin\n",
            "trying word his\n",
            "i summit that is what is happening in his case: 1.8933015488496885e-22\n",
            "trying word tis\n",
            "i summit that is what is happening in tis case: 4.743322251851935e-26\n",
            "trying word this\n",
            "i summit that is what is happening in this case: 3.631003992079588e-18\n",
            "trying word thins\n",
            "i summit that is what is happening in thins case: 2.371471412007285e-25\n",
            "trying word thus\n",
            "i summit that is what is happening in thus case: 1.1187299247257364e-27\n",
            "trying word thin\n",
            "i summit that is what is happening in thin case: 1.4373982556061997e-27\n",
            "replacing word: case alternatives: caste cash cases cage came vase base cape chase case cave cafe cause cane cast gase care cease cake ease\n",
            "trying word caste\n",
            "i summit that is what is happening in this caste: 1.8154112254785206e-22\n",
            "trying word cash\n",
            "i summit that is what is happening in this cash: 1.8154112254785206e-22\n",
            "trying word cases\n",
            "i summit that is what is happening in this cases: 1.8154112254785206e-22\n",
            "trying word cage\n",
            "i summit that is what is happening in this cage: 1.8154112254785206e-22\n",
            "trying word came\n",
            "i summit that is what is happening in this came: 3.6310039920795874e-18\n",
            "trying word vase\n",
            "i summit that is what is happening in this vase: 1.8154112254785206e-22\n",
            "trying word base\n",
            "i summit that is what is happening in this base: 1.8155927666010676e-18\n",
            "trying word cape\n",
            "i summit that is what is happening in this cape: 1.8154112254785206e-22\n",
            "trying word chase\n",
            "i summit that is what is happening in this chase: 1.8155927666010676e-18\n",
            "trying word case\n",
            "i summit that is what is happening in this case: 3.267758359973591e-17\n",
            "trying word cave\n",
            "i summit that is what is happening in this cave: 1.8154112254785206e-22\n",
            "trying word cafe\n",
            "i summit that is what is happening in this cafe: 1.8154112254785206e-22\n",
            "trying word cause\n",
            "i summit that is what is happening in this cause: 3.6310039920795874e-18\n",
            "trying word cane\n",
            "i summit that is what is happening in this cane: 1.8154112254785206e-22\n",
            "trying word cast\n",
            "i summit that is what is happening in this cast: 1.8154112254785206e-22\n",
            "trying word gase\n",
            "i summit that is what is happening in this gase: 1.8154112254785206e-22\n",
            "trying word care\n",
            "i summit that is what is happening in this care: 1.8154112254785206e-22\n",
            "trying word cease\n",
            "i summit that is what is happening in this cease: 1.8154112254785206e-22\n",
            "trying word cake\n",
            "i summit that is what is happening in this cake: 1.8154112254785206e-22\n",
            "trying word ease\n",
            "i summit that is what is happening in this ease: 1.8154112254785206e-22\n"
          ]
        }
      ]
    },
    {
      "cell_type": "code",
      "source": [
        "print(max(p, key=lambda x: x[0]), p[0])"
      ],
      "metadata": {
        "id": "kTfBzGmNRNj-",
        "outputId": "59ffca1b-8040-4d0d-c826-08141f40c45f",
        "colab": {
          "base_uri": "https://localhost:8080/"
        }
      },
      "execution_count": null,
      "outputs": [
        {
          "output_type": "stream",
          "name": "stdout",
          "text": [
            "(2.1572137069592035e-19, 'u summit that is what is happening in this case') (8.787817000138546e-24, 'e summit that is what is happening in this case')\n"
          ]
        }
      ]
    },
    {
      "cell_type": "code",
      "source": [
        "NGRAM_2[\"submit that\"]"
      ],
      "metadata": {
        "id": "_8757e25RcoO",
        "outputId": "67adbf81-1437-4a32-c5f3-3e13050e0b32",
        "colab": {
          "base_uri": "https://localhost:8080/"
        }
      },
      "execution_count": null,
      "outputs": [
        {
          "output_type": "execute_result",
          "data": {
            "text/plain": [
              "0"
            ]
          },
          "metadata": {},
          "execution_count": 72
        }
      ]
    }
  ]
}